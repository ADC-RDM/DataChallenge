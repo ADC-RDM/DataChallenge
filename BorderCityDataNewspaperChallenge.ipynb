{
 "cells": [
  {
   "cell_type": "markdown",
   "id": "04c5a5ab",
   "metadata": {},
   "source": [
    "# Introduction"
   ]
  },
  {
   "cell_type": "markdown",
   "id": "7a5c5c29",
   "metadata": {},
   "source": [
    "Text collections and textual analysis offer a unique and largely untapped combination for applying data mining techniques and computational analysis to generate new insights into the past. This is particularly true for newspaper collections. Newspaper pages typically have eight times the amount of text that appears on a book page, and a modest weekly newspaper can represent many thousands of pages of local content for even the smallest of communities. The [Leddy Library](https://leddy.uwindsor.ca/) at the [University of Windsor](https://www.uwindsor.ca) has been digitizing local newspapers with partners for over a decade, including [The Amherstburg Echo](http://ink.scholarsportal.info/echo), [The Essex Free Press](http://ink.scholarsportal.info/efp), and [The Border Cities Star](http://ink.scholarsportal.info/bcs). With the help of the [Essex County Library System](https://www.countyofessex.ca/en/resident-services/library.aspx) and [Hackforge](https://hackf.org/), the [Academic Data Centre](https://leddy.uwindsor.ca/key-service-areas/academic-data-centre) is designating the month of March 2023 as an opportunity to encourage the use of local digitized historical newspapers for data mining and text analysis with 10 prizes of $50 Amazon gift cards.\n",
    "\n",
    "This opportunity arose from a [workshop series](https://leddy.uwindsor.ca/rdm-tdm-jupyterhub-newspapers) on _Research Data Management_ and _Text Data Mining_ supported by [SHARCNET/Compute Ontario](https://www.sharcnet.ca/). Although the access to the newspapers is presented through a [Jupyter](https://jupyter.org/) notebook, there is no requirement to use Jupyter. Simply send us your code, snippets of code, URLs, or even ideas to [libdata@uwindsor.ca](mailto:libdata@uwindsor.ca). We are casting a broad net in the hopes of fostering ideas on the use of newspapers for research.\n",
    "\n",
    "The datasets consist of the [Optical Character Recognition](https://en.wikipedia.org/wiki/Optical_character_recognition) (OCR) for 5 newspapers titles, as shown in the table below. We have selected 3 titles from [Essex County](https://en.wikipedia.org/wiki/Essex_County,_Ontario) and 2 titles from [Chatham-Kent](https://en.wikipedia.org/wiki/Chatham-Kent). These 2 neighbouring counties in Southern Ontario both have rich newspaper histories, and the titles are represented from the start of the newspapers through to 1950. Please note the gaps in coverage as shown in the table, it was not always possible to digitize all of the years in the newspaper's operation, and in some case, no record exists for the time period.\n",
    "\n",
    "| Newspaper Title                         | Coverage                                     |\n",
    "| :-------------------------------------- | :------------------------------------------- |\n",
    "| The Comber Herald (Chatham-Kent County) | 1892,1894-1902,1906-1908,1912-1914,1920-1949 |\n",
    "| The Amherstburg Echo (Essex County)     | 1874-1936,1943-1946                          |\n",
    "| The Essex Free Press (Essex County)     | 1895-1908,1911-1922,1924,1927-1949           |\n",
    "| The Harrow News (Essex County)          | 1931,1933-1935,1938-1949                     |\n",
    "| The Tilbury Times (Chatham-Kent County) | 1898-1909,1917-1949                          |\n",
    "\n",
    "This particular session attempts to bring together the use of textual analysis with digitized newspaper content within a [JupyterHub](https://jupyter.org/hub) environment. The session does not require background in any of these areas, but for those who may be attending this session without the benefit of the preceeding _Introduction to JupyterHub_ workshop, it is useful to understand some conventions of [Jupyter](https://jupyter.org/) notebooks.\n",
    "\n",
    "The layout closely follows the format used by the [Newspapers as Data](https://libguides.library.arizona.edu/newspapers-as-data) project. Each newspaper has a zipped file that is available at the [Internet Archive](https://archive.org/) which consists of a series of folders. The first folders are organized by year of publication. Within each year, there is a _pages_ folder, which contains a text file contain the OCR for each page of the newspaper issue organized by date and sequence number, e.g. _1907-08-23-0001.txt_. There is also a _volumes_ folder, which puts the OCR for an entire issue into one file, e.g. _1907-08-23.txt_. One may be preferable over the other, depending on what you are trying to do with the text. You can also view the [PDF](https://en.wikipedia.org/wiki/PDF) of a page using the method shown below. The page will contain embedded OCR. Newspapers, and in particular, historic newspapers from microfilm, can be extremely challenging for image and OCR quality. "
   ]
  },
  {
   "cell_type": "markdown",
   "id": "f881975b",
   "metadata": {},
   "source": [
    "# Working with the data"
   ]
  },
  {
   "cell_type": "markdown",
   "id": "a1ca5bcd",
   "metadata": {},
   "source": [
    "The code sample below shows one method of accessing the OCR files from within a Jupyter notebook, but you can use the links to the datasets directly as well:\n",
    "\n",
    "* [The Comber Herald](https://archive.org/download/comber_ocr) - link to [zipped OCR](https://archive.org/download/comber_ocr/comber.zip) (~188 MB)\n",
    "* [The Amherstburg Echo](https://archive.org/download/echo_ocr) - link to [zipped OCR](https://archive.org/download/echo_ocr/echo.zip) (~420 MB)\n",
    "* [The Essex Free Press](https://archive.org/download/efp_ocr) - link to [zipped OCR](https://archive.org/download/efp_ocr/efp.zip) (~162 MB)\n",
    "* [The Harrow News](https://archive.org/download/harrow_ocr) - link to [zipped OCR](https://archive.org/download/harrow_ocr/harrow.zip) (~6 MB)\n",
    "* [The Tilbury Times](https://archive.org/download/tilbury_ocr) - link to [zipped OCR](https://archive.org/download/tilbury_ocr/tilbury.zip) (~145 MB)\n",
    "\n"
   ]
  },
  {
   "cell_type": "code",
   "execution_count": 26,
   "id": "dfb1728d",
   "metadata": {},
   "outputs": [
    {
     "name": "stdout",
     "output_type": "stream",
     "text": [
      "=> years extracted: 50\n"
     ]
    }
   ],
   "source": [
    "\"\"\"\n",
    "Retrieve newspaper OCR from the Internet Archive\n",
    "and extract in a temporary folder. This can take\n",
    "a few minutes for larger sets.\n",
    "\"\"\"\n",
    "\n",
    "from io import BytesIO\n",
    "from urllib.request import urlopen\n",
    "from zipfile import ZipFile\n",
    "import os,re,tempfile\n",
    "\n",
    "# Use the url for The Essex Free Press\n",
    "efp_url = \"https://archive.org/download/efp_ocr/efp.zip\"\n",
    "\n",
    "newspaper_folder = tempfile.TemporaryDirectory()\n",
    "\n",
    "with urlopen(efp_url) as zip_resp:\n",
    "    with ZipFile(BytesIO(zip_resp.read())) as zfile:\n",
    "        zfile.extractall(newspaper_folder.name)\n",
    "        \n",
    "year_list = sorted(os.listdir(newspaper_folder.name))\n",
    "print(\"=> years extracted:\", len(year_list))"
   ]
  },
  {
   "cell_type": "markdown",
   "id": "6e5b3901",
   "metadata": {},
   "source": [
    "If the above cell executes ok (it might take a few minutes), we can go ahead and set some values. In this case, we will look for occurences of the terms _influenza_ and _flu_ for the years 1915 to 1920. This covers the lead-up to the [Spanish Flu](https://www.theglobeandmail.com/canada/article-mandatory-masks-shuttered-theatres-and-confusing-rules-the-1918/) which took hold in late 1918 in Ontario, and persisted through to the last wave in 1920."
   ]
  },
  {
   "cell_type": "code",
   "execution_count": 27,
   "id": "78ddcd67",
   "metadata": {},
   "outputs": [
    {
     "name": "stdout",
     "output_type": "stream",
     "text": [
      "=> values set!\n"
     ]
    }
   ],
   "source": [
    "news_topics = [\"influenza\",\"flu\"]\n",
    "news_range = \"[1915 to 1920]\"\n",
    "print(\"=> values set!\")"
   ]
  },
  {
   "cell_type": "markdown",
   "id": "1fa75924",
   "metadata": {},
   "source": [
    "We will try a slight variation on an exercise in the University of Arizona's [Introduction to text mining notebook](https://github.com/jcoliver/dig-coll-borderlands/blob/main/Text-Mining-Short.ipynb). The basic idea is to calculate the relative frequency of terms we are interested in."
   ]
  },
  {
   "cell_type": "code",
   "execution_count": 28,
   "id": "a9d86305",
   "metadata": {},
   "outputs": [
    {
     "name": "stdout",
     "output_type": "stream",
     "text": [
      "=> pages examined: 312\n"
     ]
    },
    {
     "data": {
      "application/vnd.plotly.v1+json": {
       "config": {
        "plotlyServerURL": "https://plot.ly"
       },
       "data": [
        {
         "hovertemplate": "Date=%{x}<br>Frequency=%{y}<extra></extra>",
         "legendgroup": "",
         "line": {
          "color": "#636efa",
          "dash": "solid"
         },
         "marker": {
          "symbol": "circle"
         },
         "mode": "lines",
         "name": "",
         "orientation": "v",
         "showlegend": false,
         "type": "scatter",
         "x": [
          "1915-01-01",
          "1915-01-08",
          "1915-01-15",
          "1915-01-22",
          "1915-01-29",
          "1915-02-05",
          "1915-02-12",
          "1915-02-19",
          "1915-02-26",
          "1915-03-05",
          "1915-03-12",
          "1915-03-19",
          "1915-03-26",
          "1915-04-02",
          "1915-04-09",
          "1915-04-16",
          "1915-04-23",
          "1915-04-30",
          "1915-05-07",
          "1915-05-14",
          "1915-05-21",
          "1915-05-28",
          "1915-06-04",
          "1915-06-11",
          "1915-06-18",
          "1915-06-25",
          "1915-07-02",
          "1915-07-09",
          "1915-07-16",
          "1915-07-23",
          "1915-07-30",
          "1915-08-06",
          "1915-08-13",
          "1915-08-20",
          "1915-08-27",
          "1915-09-03",
          "1915-09-10",
          "1915-09-17",
          "1915-09-24",
          "1915-10-01",
          "1915-10-08",
          "1915-10-15",
          "1915-10-22",
          "1915-10-29",
          "1915-11-05",
          "1915-11-12",
          "1915-11-19",
          "1915-11-26",
          "1915-12-03",
          "1915-12-10",
          "1915-12-17",
          "1915-12-24",
          "1915-12-31",
          "1916-01-07",
          "1916-01-14",
          "1916-01-21",
          "1916-01-28",
          "1916-02-04",
          "1916-02-11",
          "1916-02-18",
          "1916-02-25",
          "1916-03-03",
          "1916-03-10",
          "1916-03-17",
          "1916-03-24",
          "1916-03-31",
          "1916-04-07",
          "1916-04-14",
          "1916-04-21",
          "1916-04-28",
          "1916-05-05",
          "1916-05-12",
          "1916-05-19",
          "1916-05-26",
          "1916-06-02",
          "1916-06-09",
          "1916-06-16",
          "1916-06-23",
          "1916-06-30",
          "1916-07-07",
          "1916-07-14",
          "1916-07-21",
          "1916-07-28",
          "1916-08-04",
          "1916-08-11",
          "1916-08-18",
          "1916-08-25",
          "1916-09-01",
          "1916-09-08",
          "1916-09-15",
          "1916-09-22",
          "1916-09-29",
          "1916-10-06",
          "1916-10-13",
          "1916-10-20",
          "1916-10-27",
          "1916-11-03",
          "1916-11-10",
          "1916-11-17",
          "1916-11-24",
          "1916-12-01",
          "1916-12-08",
          "1916-12-15",
          "1916-12-22",
          "1916-12-29",
          "1917-01-05",
          "1917-01-12",
          "1917-01-19",
          "1917-01-26",
          "1917-02-02",
          "1917-02-09",
          "1917-02-16",
          "1917-02-23",
          "1917-03-02",
          "1917-03-09",
          "1917-03-16",
          "1917-03-23",
          "1917-03-30",
          "1917-04-06",
          "1917-04-13",
          "1917-04-20",
          "1917-04-27",
          "1917-05-04",
          "1917-05-11",
          "1917-05-18",
          "1917-05-25",
          "1917-06-01",
          "1917-06-08",
          "1917-06-15",
          "1917-06-22",
          "1917-06-29",
          "1917-07-06",
          "1917-07-13",
          "1917-07-20",
          "1917-07-27",
          "1917-08-03",
          "1917-08-10",
          "1917-08-17",
          "1917-08-24",
          "1917-08-31",
          "1917-09-07",
          "1917-09-14",
          "1917-09-21",
          "1917-09-28",
          "1917-10-05",
          "1917-10-12",
          "1917-10-19",
          "1917-10-26",
          "1917-11-02",
          "1917-11-09",
          "1917-11-16",
          "1917-11-23",
          "1917-11-30",
          "1917-12-07",
          "1917-12-14",
          "1917-12-21",
          "1917-12-28",
          "1918-01-04",
          "1918-01-11",
          "1918-01-18",
          "1918-01-25",
          "1918-02-01",
          "1918-02-08",
          "1918-02-15",
          "1918-02-22",
          "1918-03-01",
          "1918-03-08",
          "1918-03-15",
          "1918-03-22",
          "1918-03-29",
          "1918-04-05",
          "1918-04-12",
          "1918-04-19",
          "1918-04-26",
          "1918-05-03",
          "1918-05-10",
          "1918-05-17",
          "1918-05-24",
          "1918-05-31",
          "1918-06-07",
          "1918-06-14",
          "1918-06-21",
          "1918-06-28",
          "1918-07-05",
          "1918-07-12",
          "1918-07-19",
          "1918-07-26",
          "1918-08-02",
          "1918-08-09",
          "1918-08-16",
          "1918-08-23",
          "1918-08-30",
          "1918-09-06",
          "1918-09-13",
          "1918-09-20",
          "1918-09-27",
          "1918-10-04",
          "1918-10-11",
          "1918-10-18",
          "1918-10-25",
          "1918-11-01",
          "1918-11-08",
          "1918-11-15",
          "1918-11-22",
          "1918-11-29",
          "1918-12-06",
          "1918-12-13",
          "1918-12-20",
          "1918-12-27",
          "1919-01-10",
          "1919-01-17",
          "1919-01-24",
          "1919-01-31",
          "1919-02-07",
          "1919-02-14",
          "1919-02-21",
          "1919-02-28",
          "1919-03-07",
          "1919-03-14",
          "1919-03-21",
          "1919-03-28",
          "1919-04-04",
          "1919-04-11",
          "1919-04-18",
          "1919-04-25",
          "1919-05-02",
          "1919-05-09",
          "1919-05-16",
          "1919-05-23",
          "1919-05-30",
          "1919-06-06",
          "1919-06-13",
          "1919-06-20",
          "1919-06-27",
          "1919-07-04",
          "1919-07-11",
          "1919-07-18",
          "1919-07-25",
          "1919-08-01",
          "1919-08-08",
          "1919-08-15",
          "1919-08-22",
          "1919-08-29",
          "1919-09-05",
          "1919-09-12",
          "1919-09-19",
          "1919-09-26",
          "1919-10-03",
          "1919-10-10",
          "1919-10-17",
          "1919-10-24",
          "1919-10-31",
          "1919-11-07",
          "1919-11-14",
          "1919-11-21",
          "1919-11-28",
          "1919-12-05",
          "1919-12-12",
          "1919-12-19",
          "1920-01-02",
          "1920-01-09",
          "1920-01-16",
          "1920-01-23",
          "1920-01-30",
          "1920-02-06",
          "1920-02-13",
          "1920-02-20",
          "1920-02-27",
          "1920-03-05",
          "1920-03-12",
          "1920-03-19",
          "1920-03-26",
          "1920-04-02",
          "1920-04-09",
          "1920-04-16",
          "1920-04-23",
          "1920-04-30",
          "1920-05-07",
          "1920-05-14",
          "1920-05-21",
          "1920-05-28",
          "1920-06-04",
          "1920-06-11",
          "1920-06-18",
          "1920-06-25",
          "1920-07-02",
          "1920-07-09",
          "1920-07-16",
          "1920-07-23",
          "1920-07-30",
          "1920-08-06",
          "1920-08-13",
          "1920-08-20",
          "1920-08-27",
          "1920-09-03",
          "1920-09-10",
          "1920-09-17",
          "1920-09-24",
          "1920-10-01",
          "1920-10-08",
          "1920-10-15",
          "1920-10-22",
          "1920-10-29",
          "1920-11-05",
          "1920-11-12",
          "1920-11-19",
          "1920-11-26",
          "1920-12-03",
          "1920-12-10",
          "1920-12-17",
          "1920-12-24",
          "1920-12-31"
         ],
         "xaxis": "x",
         "y": [
          0,
          0,
          0,
          0,
          0,
          0,
          0,
          0,
          0,
          0,
          0,
          0,
          0,
          0,
          0,
          0,
          0,
          0,
          0,
          0,
          0,
          0,
          0,
          0,
          0,
          0,
          0,
          0,
          0,
          0,
          0,
          0,
          0,
          0,
          0,
          0,
          0,
          0,
          0,
          0,
          0,
          0,
          0,
          0,
          0,
          0,
          0,
          0,
          0,
          0,
          0,
          0,
          0,
          0,
          0,
          0,
          0,
          0,
          0,
          0,
          0,
          0,
          0,
          0,
          0,
          0,
          0,
          0,
          0,
          0,
          0,
          0,
          0,
          0,
          0,
          0,
          0,
          0,
          0,
          0,
          0,
          0,
          0,
          0,
          0,
          0,
          0,
          0,
          0,
          0,
          0,
          0,
          0,
          0,
          0,
          0,
          0,
          0,
          0,
          0,
          0,
          0,
          0,
          0,
          0,
          0,
          0,
          0,
          0,
          0,
          0,
          0,
          0,
          0,
          0,
          0,
          0.000588235294117647,
          0,
          0,
          0,
          0,
          0,
          0,
          0,
          0,
          0,
          0,
          0,
          0,
          0,
          0,
          0,
          0,
          0,
          0,
          0,
          0,
          0,
          0,
          0,
          0,
          0,
          0,
          0,
          0,
          0,
          0,
          0,
          0,
          0,
          0,
          0,
          0,
          0,
          0,
          0,
          0,
          0,
          0,
          0,
          0,
          0,
          0,
          0,
          0,
          0,
          0,
          0,
          0,
          0,
          0,
          0,
          0,
          0,
          0,
          0,
          0,
          0,
          0,
          0,
          0,
          0,
          0,
          0,
          0,
          0,
          0,
          0,
          0,
          0,
          0,
          0,
          0,
          0,
          0,
          0,
          0,
          0,
          0,
          0,
          0,
          0,
          0,
          0,
          0.0007564296520423601,
          0,
          0,
          0.001392757660167131,
          0,
          0,
          0.0007407407407407407,
          0.0005405405405405405,
          0.0014803849000740192,
          0.001059322033898305,
          0,
          0,
          0,
          0.000547645125958379,
          0,
          0.0003827018752391887,
          0.0005614823133071309,
          0,
          0,
          0,
          0,
          0,
          0,
          0,
          0,
          0,
          0,
          0,
          0,
          0,
          0,
          0,
          0,
          0,
          0,
          0,
          0,
          0,
          0,
          0,
          0,
          0,
          0,
          0,
          0,
          0,
          0,
          0,
          0,
          0,
          0.00031220730565095225,
          0,
          0,
          0,
          0.000299311583358276,
          0,
          0,
          0,
          0,
          0,
          0.0006259780907668231,
          0.00031928480204342275,
          0.0006211180124223603,
          0,
          0,
          0.0013623978201634877,
          0,
          0,
          0,
          0,
          0,
          0,
          0,
          0,
          0,
          0,
          0,
          0,
          0,
          0,
          0,
          0,
          0,
          0,
          0,
          0,
          0,
          0,
          0,
          0,
          0,
          0,
          0,
          0,
          0,
          0,
          0,
          0,
          0,
          0,
          0,
          0,
          0,
          0,
          0,
          0,
          0,
          0
         ],
         "yaxis": "y"
        }
       ],
       "layout": {
        "legend": {
         "tracegroupgap": 0
        },
        "margin": {
         "t": 60
        },
        "template": {
         "data": {
          "bar": [
           {
            "error_x": {
             "color": "#2a3f5f"
            },
            "error_y": {
             "color": "#2a3f5f"
            },
            "marker": {
             "line": {
              "color": "#E5ECF6",
              "width": 0.5
             },
             "pattern": {
              "fillmode": "overlay",
              "size": 10,
              "solidity": 0.2
             }
            },
            "type": "bar"
           }
          ],
          "barpolar": [
           {
            "marker": {
             "line": {
              "color": "#E5ECF6",
              "width": 0.5
             },
             "pattern": {
              "fillmode": "overlay",
              "size": 10,
              "solidity": 0.2
             }
            },
            "type": "barpolar"
           }
          ],
          "carpet": [
           {
            "aaxis": {
             "endlinecolor": "#2a3f5f",
             "gridcolor": "white",
             "linecolor": "white",
             "minorgridcolor": "white",
             "startlinecolor": "#2a3f5f"
            },
            "baxis": {
             "endlinecolor": "#2a3f5f",
             "gridcolor": "white",
             "linecolor": "white",
             "minorgridcolor": "white",
             "startlinecolor": "#2a3f5f"
            },
            "type": "carpet"
           }
          ],
          "choropleth": [
           {
            "colorbar": {
             "outlinewidth": 0,
             "ticks": ""
            },
            "type": "choropleth"
           }
          ],
          "contour": [
           {
            "colorbar": {
             "outlinewidth": 0,
             "ticks": ""
            },
            "colorscale": [
             [
              0,
              "#0d0887"
             ],
             [
              0.1111111111111111,
              "#46039f"
             ],
             [
              0.2222222222222222,
              "#7201a8"
             ],
             [
              0.3333333333333333,
              "#9c179e"
             ],
             [
              0.4444444444444444,
              "#bd3786"
             ],
             [
              0.5555555555555556,
              "#d8576b"
             ],
             [
              0.6666666666666666,
              "#ed7953"
             ],
             [
              0.7777777777777778,
              "#fb9f3a"
             ],
             [
              0.8888888888888888,
              "#fdca26"
             ],
             [
              1,
              "#f0f921"
             ]
            ],
            "type": "contour"
           }
          ],
          "contourcarpet": [
           {
            "colorbar": {
             "outlinewidth": 0,
             "ticks": ""
            },
            "type": "contourcarpet"
           }
          ],
          "heatmap": [
           {
            "colorbar": {
             "outlinewidth": 0,
             "ticks": ""
            },
            "colorscale": [
             [
              0,
              "#0d0887"
             ],
             [
              0.1111111111111111,
              "#46039f"
             ],
             [
              0.2222222222222222,
              "#7201a8"
             ],
             [
              0.3333333333333333,
              "#9c179e"
             ],
             [
              0.4444444444444444,
              "#bd3786"
             ],
             [
              0.5555555555555556,
              "#d8576b"
             ],
             [
              0.6666666666666666,
              "#ed7953"
             ],
             [
              0.7777777777777778,
              "#fb9f3a"
             ],
             [
              0.8888888888888888,
              "#fdca26"
             ],
             [
              1,
              "#f0f921"
             ]
            ],
            "type": "heatmap"
           }
          ],
          "heatmapgl": [
           {
            "colorbar": {
             "outlinewidth": 0,
             "ticks": ""
            },
            "colorscale": [
             [
              0,
              "#0d0887"
             ],
             [
              0.1111111111111111,
              "#46039f"
             ],
             [
              0.2222222222222222,
              "#7201a8"
             ],
             [
              0.3333333333333333,
              "#9c179e"
             ],
             [
              0.4444444444444444,
              "#bd3786"
             ],
             [
              0.5555555555555556,
              "#d8576b"
             ],
             [
              0.6666666666666666,
              "#ed7953"
             ],
             [
              0.7777777777777778,
              "#fb9f3a"
             ],
             [
              0.8888888888888888,
              "#fdca26"
             ],
             [
              1,
              "#f0f921"
             ]
            ],
            "type": "heatmapgl"
           }
          ],
          "histogram": [
           {
            "marker": {
             "pattern": {
              "fillmode": "overlay",
              "size": 10,
              "solidity": 0.2
             }
            },
            "type": "histogram"
           }
          ],
          "histogram2d": [
           {
            "colorbar": {
             "outlinewidth": 0,
             "ticks": ""
            },
            "colorscale": [
             [
              0,
              "#0d0887"
             ],
             [
              0.1111111111111111,
              "#46039f"
             ],
             [
              0.2222222222222222,
              "#7201a8"
             ],
             [
              0.3333333333333333,
              "#9c179e"
             ],
             [
              0.4444444444444444,
              "#bd3786"
             ],
             [
              0.5555555555555556,
              "#d8576b"
             ],
             [
              0.6666666666666666,
              "#ed7953"
             ],
             [
              0.7777777777777778,
              "#fb9f3a"
             ],
             [
              0.8888888888888888,
              "#fdca26"
             ],
             [
              1,
              "#f0f921"
             ]
            ],
            "type": "histogram2d"
           }
          ],
          "histogram2dcontour": [
           {
            "colorbar": {
             "outlinewidth": 0,
             "ticks": ""
            },
            "colorscale": [
             [
              0,
              "#0d0887"
             ],
             [
              0.1111111111111111,
              "#46039f"
             ],
             [
              0.2222222222222222,
              "#7201a8"
             ],
             [
              0.3333333333333333,
              "#9c179e"
             ],
             [
              0.4444444444444444,
              "#bd3786"
             ],
             [
              0.5555555555555556,
              "#d8576b"
             ],
             [
              0.6666666666666666,
              "#ed7953"
             ],
             [
              0.7777777777777778,
              "#fb9f3a"
             ],
             [
              0.8888888888888888,
              "#fdca26"
             ],
             [
              1,
              "#f0f921"
             ]
            ],
            "type": "histogram2dcontour"
           }
          ],
          "mesh3d": [
           {
            "colorbar": {
             "outlinewidth": 0,
             "ticks": ""
            },
            "type": "mesh3d"
           }
          ],
          "parcoords": [
           {
            "line": {
             "colorbar": {
              "outlinewidth": 0,
              "ticks": ""
             }
            },
            "type": "parcoords"
           }
          ],
          "pie": [
           {
            "automargin": true,
            "type": "pie"
           }
          ],
          "scatter": [
           {
            "fillpattern": {
             "fillmode": "overlay",
             "size": 10,
             "solidity": 0.2
            },
            "type": "scatter"
           }
          ],
          "scatter3d": [
           {
            "line": {
             "colorbar": {
              "outlinewidth": 0,
              "ticks": ""
             }
            },
            "marker": {
             "colorbar": {
              "outlinewidth": 0,
              "ticks": ""
             }
            },
            "type": "scatter3d"
           }
          ],
          "scattercarpet": [
           {
            "marker": {
             "colorbar": {
              "outlinewidth": 0,
              "ticks": ""
             }
            },
            "type": "scattercarpet"
           }
          ],
          "scattergeo": [
           {
            "marker": {
             "colorbar": {
              "outlinewidth": 0,
              "ticks": ""
             }
            },
            "type": "scattergeo"
           }
          ],
          "scattergl": [
           {
            "marker": {
             "colorbar": {
              "outlinewidth": 0,
              "ticks": ""
             }
            },
            "type": "scattergl"
           }
          ],
          "scattermapbox": [
           {
            "marker": {
             "colorbar": {
              "outlinewidth": 0,
              "ticks": ""
             }
            },
            "type": "scattermapbox"
           }
          ],
          "scatterpolar": [
           {
            "marker": {
             "colorbar": {
              "outlinewidth": 0,
              "ticks": ""
             }
            },
            "type": "scatterpolar"
           }
          ],
          "scatterpolargl": [
           {
            "marker": {
             "colorbar": {
              "outlinewidth": 0,
              "ticks": ""
             }
            },
            "type": "scatterpolargl"
           }
          ],
          "scatterternary": [
           {
            "marker": {
             "colorbar": {
              "outlinewidth": 0,
              "ticks": ""
             }
            },
            "type": "scatterternary"
           }
          ],
          "surface": [
           {
            "colorbar": {
             "outlinewidth": 0,
             "ticks": ""
            },
            "colorscale": [
             [
              0,
              "#0d0887"
             ],
             [
              0.1111111111111111,
              "#46039f"
             ],
             [
              0.2222222222222222,
              "#7201a8"
             ],
             [
              0.3333333333333333,
              "#9c179e"
             ],
             [
              0.4444444444444444,
              "#bd3786"
             ],
             [
              0.5555555555555556,
              "#d8576b"
             ],
             [
              0.6666666666666666,
              "#ed7953"
             ],
             [
              0.7777777777777778,
              "#fb9f3a"
             ],
             [
              0.8888888888888888,
              "#fdca26"
             ],
             [
              1,
              "#f0f921"
             ]
            ],
            "type": "surface"
           }
          ],
          "table": [
           {
            "cells": {
             "fill": {
              "color": "#EBF0F8"
             },
             "line": {
              "color": "white"
             }
            },
            "header": {
             "fill": {
              "color": "#C8D4E3"
             },
             "line": {
              "color": "white"
             }
            },
            "type": "table"
           }
          ]
         },
         "layout": {
          "annotationdefaults": {
           "arrowcolor": "#2a3f5f",
           "arrowhead": 0,
           "arrowwidth": 1
          },
          "autotypenumbers": "strict",
          "coloraxis": {
           "colorbar": {
            "outlinewidth": 0,
            "ticks": ""
           }
          },
          "colorscale": {
           "diverging": [
            [
             0,
             "#8e0152"
            ],
            [
             0.1,
             "#c51b7d"
            ],
            [
             0.2,
             "#de77ae"
            ],
            [
             0.3,
             "#f1b6da"
            ],
            [
             0.4,
             "#fde0ef"
            ],
            [
             0.5,
             "#f7f7f7"
            ],
            [
             0.6,
             "#e6f5d0"
            ],
            [
             0.7,
             "#b8e186"
            ],
            [
             0.8,
             "#7fbc41"
            ],
            [
             0.9,
             "#4d9221"
            ],
            [
             1,
             "#276419"
            ]
           ],
           "sequential": [
            [
             0,
             "#0d0887"
            ],
            [
             0.1111111111111111,
             "#46039f"
            ],
            [
             0.2222222222222222,
             "#7201a8"
            ],
            [
             0.3333333333333333,
             "#9c179e"
            ],
            [
             0.4444444444444444,
             "#bd3786"
            ],
            [
             0.5555555555555556,
             "#d8576b"
            ],
            [
             0.6666666666666666,
             "#ed7953"
            ],
            [
             0.7777777777777778,
             "#fb9f3a"
            ],
            [
             0.8888888888888888,
             "#fdca26"
            ],
            [
             1,
             "#f0f921"
            ]
           ],
           "sequentialminus": [
            [
             0,
             "#0d0887"
            ],
            [
             0.1111111111111111,
             "#46039f"
            ],
            [
             0.2222222222222222,
             "#7201a8"
            ],
            [
             0.3333333333333333,
             "#9c179e"
            ],
            [
             0.4444444444444444,
             "#bd3786"
            ],
            [
             0.5555555555555556,
             "#d8576b"
            ],
            [
             0.6666666666666666,
             "#ed7953"
            ],
            [
             0.7777777777777778,
             "#fb9f3a"
            ],
            [
             0.8888888888888888,
             "#fdca26"
            ],
            [
             1,
             "#f0f921"
            ]
           ]
          },
          "colorway": [
           "#636efa",
           "#EF553B",
           "#00cc96",
           "#ab63fa",
           "#FFA15A",
           "#19d3f3",
           "#FF6692",
           "#B6E880",
           "#FF97FF",
           "#FECB52"
          ],
          "font": {
           "color": "#2a3f5f"
          },
          "geo": {
           "bgcolor": "white",
           "lakecolor": "white",
           "landcolor": "#E5ECF6",
           "showlakes": true,
           "showland": true,
           "subunitcolor": "white"
          },
          "hoverlabel": {
           "align": "left"
          },
          "hovermode": "closest",
          "mapbox": {
           "style": "light"
          },
          "paper_bgcolor": "white",
          "plot_bgcolor": "#E5ECF6",
          "polar": {
           "angularaxis": {
            "gridcolor": "white",
            "linecolor": "white",
            "ticks": ""
           },
           "bgcolor": "#E5ECF6",
           "radialaxis": {
            "gridcolor": "white",
            "linecolor": "white",
            "ticks": ""
           }
          },
          "scene": {
           "xaxis": {
            "backgroundcolor": "#E5ECF6",
            "gridcolor": "white",
            "gridwidth": 2,
            "linecolor": "white",
            "showbackground": true,
            "ticks": "",
            "zerolinecolor": "white"
           },
           "yaxis": {
            "backgroundcolor": "#E5ECF6",
            "gridcolor": "white",
            "gridwidth": 2,
            "linecolor": "white",
            "showbackground": true,
            "ticks": "",
            "zerolinecolor": "white"
           },
           "zaxis": {
            "backgroundcolor": "#E5ECF6",
            "gridcolor": "white",
            "gridwidth": 2,
            "linecolor": "white",
            "showbackground": true,
            "ticks": "",
            "zerolinecolor": "white"
           }
          },
          "shapedefaults": {
           "line": {
            "color": "#2a3f5f"
           }
          },
          "ternary": {
           "aaxis": {
            "gridcolor": "white",
            "linecolor": "white",
            "ticks": ""
           },
           "baxis": {
            "gridcolor": "white",
            "linecolor": "white",
            "ticks": ""
           },
           "bgcolor": "#E5ECF6",
           "caxis": {
            "gridcolor": "white",
            "linecolor": "white",
            "ticks": ""
           }
          },
          "title": {
           "x": 0.05
          },
          "xaxis": {
           "automargin": true,
           "gridcolor": "white",
           "linecolor": "white",
           "ticks": "",
           "title": {
            "standoff": 15
           },
           "zerolinecolor": "white",
           "zerolinewidth": 2
          },
          "yaxis": {
           "automargin": true,
           "gridcolor": "white",
           "linecolor": "white",
           "ticks": "",
           "title": {
            "standoff": 15
           },
           "zerolinecolor": "white",
           "zerolinewidth": 2
          }
         }
        },
        "xaxis": {
         "anchor": "y",
         "domain": [
          0,
          1
         ],
         "title": {
          "text": "Date"
         }
        },
        "yaxis": {
         "anchor": "x",
         "domain": [
          0,
          1
         ],
         "title": {
          "text": "Relative Freq."
         }
        }
       }
      },
      "text/html": [
       "<div>                            <div id=\"98bad91a-4185-420c-8d1c-3da777395908\" class=\"plotly-graph-div\" style=\"height:525px; width:100%;\"></div>            <script type=\"text/javascript\">                require([\"plotly\"], function(Plotly) {                    window.PLOTLYENV=window.PLOTLYENV || {};                                    if (document.getElementById(\"98bad91a-4185-420c-8d1c-3da777395908\")) {                    Plotly.newPlot(                        \"98bad91a-4185-420c-8d1c-3da777395908\",                        [{\"hovertemplate\":\"Date=%{x}<br>Frequency=%{y}<extra></extra>\",\"legendgroup\":\"\",\"line\":{\"color\":\"#636efa\",\"dash\":\"solid\"},\"marker\":{\"symbol\":\"circle\"},\"mode\":\"lines\",\"name\":\"\",\"orientation\":\"v\",\"showlegend\":false,\"x\":[\"1915-01-01\",\"1915-01-08\",\"1915-01-15\",\"1915-01-22\",\"1915-01-29\",\"1915-02-05\",\"1915-02-12\",\"1915-02-19\",\"1915-02-26\",\"1915-03-05\",\"1915-03-12\",\"1915-03-19\",\"1915-03-26\",\"1915-04-02\",\"1915-04-09\",\"1915-04-16\",\"1915-04-23\",\"1915-04-30\",\"1915-05-07\",\"1915-05-14\",\"1915-05-21\",\"1915-05-28\",\"1915-06-04\",\"1915-06-11\",\"1915-06-18\",\"1915-06-25\",\"1915-07-02\",\"1915-07-09\",\"1915-07-16\",\"1915-07-23\",\"1915-07-30\",\"1915-08-06\",\"1915-08-13\",\"1915-08-20\",\"1915-08-27\",\"1915-09-03\",\"1915-09-10\",\"1915-09-17\",\"1915-09-24\",\"1915-10-01\",\"1915-10-08\",\"1915-10-15\",\"1915-10-22\",\"1915-10-29\",\"1915-11-05\",\"1915-11-12\",\"1915-11-19\",\"1915-11-26\",\"1915-12-03\",\"1915-12-10\",\"1915-12-17\",\"1915-12-24\",\"1915-12-31\",\"1916-01-07\",\"1916-01-14\",\"1916-01-21\",\"1916-01-28\",\"1916-02-04\",\"1916-02-11\",\"1916-02-18\",\"1916-02-25\",\"1916-03-03\",\"1916-03-10\",\"1916-03-17\",\"1916-03-24\",\"1916-03-31\",\"1916-04-07\",\"1916-04-14\",\"1916-04-21\",\"1916-04-28\",\"1916-05-05\",\"1916-05-12\",\"1916-05-19\",\"1916-05-26\",\"1916-06-02\",\"1916-06-09\",\"1916-06-16\",\"1916-06-23\",\"1916-06-30\",\"1916-07-07\",\"1916-07-14\",\"1916-07-21\",\"1916-07-28\",\"1916-08-04\",\"1916-08-11\",\"1916-08-18\",\"1916-08-25\",\"1916-09-01\",\"1916-09-08\",\"1916-09-15\",\"1916-09-22\",\"1916-09-29\",\"1916-10-06\",\"1916-10-13\",\"1916-10-20\",\"1916-10-27\",\"1916-11-03\",\"1916-11-10\",\"1916-11-17\",\"1916-11-24\",\"1916-12-01\",\"1916-12-08\",\"1916-12-15\",\"1916-12-22\",\"1916-12-29\",\"1917-01-05\",\"1917-01-12\",\"1917-01-19\",\"1917-01-26\",\"1917-02-02\",\"1917-02-09\",\"1917-02-16\",\"1917-02-23\",\"1917-03-02\",\"1917-03-09\",\"1917-03-16\",\"1917-03-23\",\"1917-03-30\",\"1917-04-06\",\"1917-04-13\",\"1917-04-20\",\"1917-04-27\",\"1917-05-04\",\"1917-05-11\",\"1917-05-18\",\"1917-05-25\",\"1917-06-01\",\"1917-06-08\",\"1917-06-15\",\"1917-06-22\",\"1917-06-29\",\"1917-07-06\",\"1917-07-13\",\"1917-07-20\",\"1917-07-27\",\"1917-08-03\",\"1917-08-10\",\"1917-08-17\",\"1917-08-24\",\"1917-08-31\",\"1917-09-07\",\"1917-09-14\",\"1917-09-21\",\"1917-09-28\",\"1917-10-05\",\"1917-10-12\",\"1917-10-19\",\"1917-10-26\",\"1917-11-02\",\"1917-11-09\",\"1917-11-16\",\"1917-11-23\",\"1917-11-30\",\"1917-12-07\",\"1917-12-14\",\"1917-12-21\",\"1917-12-28\",\"1918-01-04\",\"1918-01-11\",\"1918-01-18\",\"1918-01-25\",\"1918-02-01\",\"1918-02-08\",\"1918-02-15\",\"1918-02-22\",\"1918-03-01\",\"1918-03-08\",\"1918-03-15\",\"1918-03-22\",\"1918-03-29\",\"1918-04-05\",\"1918-04-12\",\"1918-04-19\",\"1918-04-26\",\"1918-05-03\",\"1918-05-10\",\"1918-05-17\",\"1918-05-24\",\"1918-05-31\",\"1918-06-07\",\"1918-06-14\",\"1918-06-21\",\"1918-06-28\",\"1918-07-05\",\"1918-07-12\",\"1918-07-19\",\"1918-07-26\",\"1918-08-02\",\"1918-08-09\",\"1918-08-16\",\"1918-08-23\",\"1918-08-30\",\"1918-09-06\",\"1918-09-13\",\"1918-09-20\",\"1918-09-27\",\"1918-10-04\",\"1918-10-11\",\"1918-10-18\",\"1918-10-25\",\"1918-11-01\",\"1918-11-08\",\"1918-11-15\",\"1918-11-22\",\"1918-11-29\",\"1918-12-06\",\"1918-12-13\",\"1918-12-20\",\"1918-12-27\",\"1919-01-10\",\"1919-01-17\",\"1919-01-24\",\"1919-01-31\",\"1919-02-07\",\"1919-02-14\",\"1919-02-21\",\"1919-02-28\",\"1919-03-07\",\"1919-03-14\",\"1919-03-21\",\"1919-03-28\",\"1919-04-04\",\"1919-04-11\",\"1919-04-18\",\"1919-04-25\",\"1919-05-02\",\"1919-05-09\",\"1919-05-16\",\"1919-05-23\",\"1919-05-30\",\"1919-06-06\",\"1919-06-13\",\"1919-06-20\",\"1919-06-27\",\"1919-07-04\",\"1919-07-11\",\"1919-07-18\",\"1919-07-25\",\"1919-08-01\",\"1919-08-08\",\"1919-08-15\",\"1919-08-22\",\"1919-08-29\",\"1919-09-05\",\"1919-09-12\",\"1919-09-19\",\"1919-09-26\",\"1919-10-03\",\"1919-10-10\",\"1919-10-17\",\"1919-10-24\",\"1919-10-31\",\"1919-11-07\",\"1919-11-14\",\"1919-11-21\",\"1919-11-28\",\"1919-12-05\",\"1919-12-12\",\"1919-12-19\",\"1920-01-02\",\"1920-01-09\",\"1920-01-16\",\"1920-01-23\",\"1920-01-30\",\"1920-02-06\",\"1920-02-13\",\"1920-02-20\",\"1920-02-27\",\"1920-03-05\",\"1920-03-12\",\"1920-03-19\",\"1920-03-26\",\"1920-04-02\",\"1920-04-09\",\"1920-04-16\",\"1920-04-23\",\"1920-04-30\",\"1920-05-07\",\"1920-05-14\",\"1920-05-21\",\"1920-05-28\",\"1920-06-04\",\"1920-06-11\",\"1920-06-18\",\"1920-06-25\",\"1920-07-02\",\"1920-07-09\",\"1920-07-16\",\"1920-07-23\",\"1920-07-30\",\"1920-08-06\",\"1920-08-13\",\"1920-08-20\",\"1920-08-27\",\"1920-09-03\",\"1920-09-10\",\"1920-09-17\",\"1920-09-24\",\"1920-10-01\",\"1920-10-08\",\"1920-10-15\",\"1920-10-22\",\"1920-10-29\",\"1920-11-05\",\"1920-11-12\",\"1920-11-19\",\"1920-11-26\",\"1920-12-03\",\"1920-12-10\",\"1920-12-17\",\"1920-12-24\",\"1920-12-31\"],\"xaxis\":\"x\",\"y\":[0.0,0.0,0.0,0.0,0.0,0.0,0.0,0.0,0.0,0.0,0.0,0.0,0.0,0.0,0.0,0.0,0.0,0.0,0.0,0.0,0.0,0.0,0.0,0.0,0.0,0.0,0.0,0.0,0.0,0.0,0.0,0.0,0.0,0.0,0.0,0.0,0.0,0.0,0.0,0.0,0.0,0.0,0.0,0.0,0.0,0.0,0.0,0.0,0.0,0.0,0.0,0.0,0.0,0.0,0.0,0.0,0.0,0.0,0.0,0.0,0.0,0.0,0.0,0.0,0.0,0.0,0.0,0.0,0.0,0.0,0.0,0.0,0.0,0.0,0.0,0.0,0.0,0.0,0.0,0.0,0.0,0.0,0.0,0.0,0.0,0.0,0.0,0.0,0.0,0.0,0.0,0.0,0.0,0.0,0.0,0.0,0.0,0.0,0.0,0.0,0.0,0.0,0.0,0.0,0.0,0.0,0.0,0.0,0.0,0.0,0.0,0.0,0.0,0.0,0.0,0.0,0.000588235294117647,0.0,0.0,0.0,0.0,0.0,0.0,0.0,0.0,0.0,0.0,0.0,0.0,0.0,0.0,0.0,0.0,0.0,0.0,0.0,0.0,0.0,0.0,0.0,0.0,0.0,0.0,0.0,0.0,0.0,0.0,0.0,0.0,0.0,0.0,0.0,0.0,0.0,0.0,0.0,0.0,0.0,0.0,0.0,0.0,0.0,0.0,0.0,0.0,0.0,0.0,0.0,0.0,0.0,0.0,0.0,0.0,0.0,0.0,0.0,0.0,0.0,0.0,0.0,0.0,0.0,0.0,0.0,0.0,0.0,0.0,0.0,0.0,0.0,0.0,0.0,0.0,0.0,0.0,0.0,0.0,0.0,0.0,0.0,0.0,0.0,0.0,0.0,0.0007564296520423601,0.0,0.0,0.001392757660167131,0.0,0.0,0.0007407407407407407,0.0005405405405405405,0.0014803849000740192,0.001059322033898305,0.0,0.0,0.0,0.000547645125958379,0.0,0.0003827018752391887,0.0005614823133071309,0.0,0.0,0.0,0.0,0.0,0.0,0.0,0.0,0.0,0.0,0.0,0.0,0.0,0.0,0.0,0.0,0.0,0.0,0.0,0.0,0.0,0.0,0.0,0.0,0.0,0.0,0.0,0.0,0.0,0.0,0.0,0.0,0.0,0.00031220730565095225,0.0,0.0,0.0,0.000299311583358276,0.0,0.0,0.0,0.0,0.0,0.0006259780907668231,0.00031928480204342275,0.0006211180124223603,0.0,0.0,0.0013623978201634877,0.0,0.0,0.0,0.0,0.0,0.0,0.0,0.0,0.0,0.0,0.0,0.0,0.0,0.0,0.0,0.0,0.0,0.0,0.0,0.0,0.0,0.0,0.0,0.0,0.0,0.0,0.0,0.0,0.0,0.0,0.0,0.0,0.0,0.0,0.0,0.0,0.0,0.0,0.0,0.0,0.0,0.0],\"yaxis\":\"y\",\"type\":\"scatter\"}],                        {\"template\":{\"data\":{\"histogram2dcontour\":[{\"type\":\"histogram2dcontour\",\"colorbar\":{\"outlinewidth\":0,\"ticks\":\"\"},\"colorscale\":[[0.0,\"#0d0887\"],[0.1111111111111111,\"#46039f\"],[0.2222222222222222,\"#7201a8\"],[0.3333333333333333,\"#9c179e\"],[0.4444444444444444,\"#bd3786\"],[0.5555555555555556,\"#d8576b\"],[0.6666666666666666,\"#ed7953\"],[0.7777777777777778,\"#fb9f3a\"],[0.8888888888888888,\"#fdca26\"],[1.0,\"#f0f921\"]]}],\"choropleth\":[{\"type\":\"choropleth\",\"colorbar\":{\"outlinewidth\":0,\"ticks\":\"\"}}],\"histogram2d\":[{\"type\":\"histogram2d\",\"colorbar\":{\"outlinewidth\":0,\"ticks\":\"\"},\"colorscale\":[[0.0,\"#0d0887\"],[0.1111111111111111,\"#46039f\"],[0.2222222222222222,\"#7201a8\"],[0.3333333333333333,\"#9c179e\"],[0.4444444444444444,\"#bd3786\"],[0.5555555555555556,\"#d8576b\"],[0.6666666666666666,\"#ed7953\"],[0.7777777777777778,\"#fb9f3a\"],[0.8888888888888888,\"#fdca26\"],[1.0,\"#f0f921\"]]}],\"heatmap\":[{\"type\":\"heatmap\",\"colorbar\":{\"outlinewidth\":0,\"ticks\":\"\"},\"colorscale\":[[0.0,\"#0d0887\"],[0.1111111111111111,\"#46039f\"],[0.2222222222222222,\"#7201a8\"],[0.3333333333333333,\"#9c179e\"],[0.4444444444444444,\"#bd3786\"],[0.5555555555555556,\"#d8576b\"],[0.6666666666666666,\"#ed7953\"],[0.7777777777777778,\"#fb9f3a\"],[0.8888888888888888,\"#fdca26\"],[1.0,\"#f0f921\"]]}],\"heatmapgl\":[{\"type\":\"heatmapgl\",\"colorbar\":{\"outlinewidth\":0,\"ticks\":\"\"},\"colorscale\":[[0.0,\"#0d0887\"],[0.1111111111111111,\"#46039f\"],[0.2222222222222222,\"#7201a8\"],[0.3333333333333333,\"#9c179e\"],[0.4444444444444444,\"#bd3786\"],[0.5555555555555556,\"#d8576b\"],[0.6666666666666666,\"#ed7953\"],[0.7777777777777778,\"#fb9f3a\"],[0.8888888888888888,\"#fdca26\"],[1.0,\"#f0f921\"]]}],\"contourcarpet\":[{\"type\":\"contourcarpet\",\"colorbar\":{\"outlinewidth\":0,\"ticks\":\"\"}}],\"contour\":[{\"type\":\"contour\",\"colorbar\":{\"outlinewidth\":0,\"ticks\":\"\"},\"colorscale\":[[0.0,\"#0d0887\"],[0.1111111111111111,\"#46039f\"],[0.2222222222222222,\"#7201a8\"],[0.3333333333333333,\"#9c179e\"],[0.4444444444444444,\"#bd3786\"],[0.5555555555555556,\"#d8576b\"],[0.6666666666666666,\"#ed7953\"],[0.7777777777777778,\"#fb9f3a\"],[0.8888888888888888,\"#fdca26\"],[1.0,\"#f0f921\"]]}],\"surface\":[{\"type\":\"surface\",\"colorbar\":{\"outlinewidth\":0,\"ticks\":\"\"},\"colorscale\":[[0.0,\"#0d0887\"],[0.1111111111111111,\"#46039f\"],[0.2222222222222222,\"#7201a8\"],[0.3333333333333333,\"#9c179e\"],[0.4444444444444444,\"#bd3786\"],[0.5555555555555556,\"#d8576b\"],[0.6666666666666666,\"#ed7953\"],[0.7777777777777778,\"#fb9f3a\"],[0.8888888888888888,\"#fdca26\"],[1.0,\"#f0f921\"]]}],\"mesh3d\":[{\"type\":\"mesh3d\",\"colorbar\":{\"outlinewidth\":0,\"ticks\":\"\"}}],\"scatter\":[{\"fillpattern\":{\"fillmode\":\"overlay\",\"size\":10,\"solidity\":0.2},\"type\":\"scatter\"}],\"parcoords\":[{\"type\":\"parcoords\",\"line\":{\"colorbar\":{\"outlinewidth\":0,\"ticks\":\"\"}}}],\"scatterpolargl\":[{\"type\":\"scatterpolargl\",\"marker\":{\"colorbar\":{\"outlinewidth\":0,\"ticks\":\"\"}}}],\"bar\":[{\"error_x\":{\"color\":\"#2a3f5f\"},\"error_y\":{\"color\":\"#2a3f5f\"},\"marker\":{\"line\":{\"color\":\"#E5ECF6\",\"width\":0.5},\"pattern\":{\"fillmode\":\"overlay\",\"size\":10,\"solidity\":0.2}},\"type\":\"bar\"}],\"scattergeo\":[{\"type\":\"scattergeo\",\"marker\":{\"colorbar\":{\"outlinewidth\":0,\"ticks\":\"\"}}}],\"scatterpolar\":[{\"type\":\"scatterpolar\",\"marker\":{\"colorbar\":{\"outlinewidth\":0,\"ticks\":\"\"}}}],\"histogram\":[{\"marker\":{\"pattern\":{\"fillmode\":\"overlay\",\"size\":10,\"solidity\":0.2}},\"type\":\"histogram\"}],\"scattergl\":[{\"type\":\"scattergl\",\"marker\":{\"colorbar\":{\"outlinewidth\":0,\"ticks\":\"\"}}}],\"scatter3d\":[{\"type\":\"scatter3d\",\"line\":{\"colorbar\":{\"outlinewidth\":0,\"ticks\":\"\"}},\"marker\":{\"colorbar\":{\"outlinewidth\":0,\"ticks\":\"\"}}}],\"scattermapbox\":[{\"type\":\"scattermapbox\",\"marker\":{\"colorbar\":{\"outlinewidth\":0,\"ticks\":\"\"}}}],\"scatterternary\":[{\"type\":\"scatterternary\",\"marker\":{\"colorbar\":{\"outlinewidth\":0,\"ticks\":\"\"}}}],\"scattercarpet\":[{\"type\":\"scattercarpet\",\"marker\":{\"colorbar\":{\"outlinewidth\":0,\"ticks\":\"\"}}}],\"carpet\":[{\"aaxis\":{\"endlinecolor\":\"#2a3f5f\",\"gridcolor\":\"white\",\"linecolor\":\"white\",\"minorgridcolor\":\"white\",\"startlinecolor\":\"#2a3f5f\"},\"baxis\":{\"endlinecolor\":\"#2a3f5f\",\"gridcolor\":\"white\",\"linecolor\":\"white\",\"minorgridcolor\":\"white\",\"startlinecolor\":\"#2a3f5f\"},\"type\":\"carpet\"}],\"table\":[{\"cells\":{\"fill\":{\"color\":\"#EBF0F8\"},\"line\":{\"color\":\"white\"}},\"header\":{\"fill\":{\"color\":\"#C8D4E3\"},\"line\":{\"color\":\"white\"}},\"type\":\"table\"}],\"barpolar\":[{\"marker\":{\"line\":{\"color\":\"#E5ECF6\",\"width\":0.5},\"pattern\":{\"fillmode\":\"overlay\",\"size\":10,\"solidity\":0.2}},\"type\":\"barpolar\"}],\"pie\":[{\"automargin\":true,\"type\":\"pie\"}]},\"layout\":{\"autotypenumbers\":\"strict\",\"colorway\":[\"#636efa\",\"#EF553B\",\"#00cc96\",\"#ab63fa\",\"#FFA15A\",\"#19d3f3\",\"#FF6692\",\"#B6E880\",\"#FF97FF\",\"#FECB52\"],\"font\":{\"color\":\"#2a3f5f\"},\"hovermode\":\"closest\",\"hoverlabel\":{\"align\":\"left\"},\"paper_bgcolor\":\"white\",\"plot_bgcolor\":\"#E5ECF6\",\"polar\":{\"bgcolor\":\"#E5ECF6\",\"angularaxis\":{\"gridcolor\":\"white\",\"linecolor\":\"white\",\"ticks\":\"\"},\"radialaxis\":{\"gridcolor\":\"white\",\"linecolor\":\"white\",\"ticks\":\"\"}},\"ternary\":{\"bgcolor\":\"#E5ECF6\",\"aaxis\":{\"gridcolor\":\"white\",\"linecolor\":\"white\",\"ticks\":\"\"},\"baxis\":{\"gridcolor\":\"white\",\"linecolor\":\"white\",\"ticks\":\"\"},\"caxis\":{\"gridcolor\":\"white\",\"linecolor\":\"white\",\"ticks\":\"\"}},\"coloraxis\":{\"colorbar\":{\"outlinewidth\":0,\"ticks\":\"\"}},\"colorscale\":{\"sequential\":[[0.0,\"#0d0887\"],[0.1111111111111111,\"#46039f\"],[0.2222222222222222,\"#7201a8\"],[0.3333333333333333,\"#9c179e\"],[0.4444444444444444,\"#bd3786\"],[0.5555555555555556,\"#d8576b\"],[0.6666666666666666,\"#ed7953\"],[0.7777777777777778,\"#fb9f3a\"],[0.8888888888888888,\"#fdca26\"],[1.0,\"#f0f921\"]],\"sequentialminus\":[[0.0,\"#0d0887\"],[0.1111111111111111,\"#46039f\"],[0.2222222222222222,\"#7201a8\"],[0.3333333333333333,\"#9c179e\"],[0.4444444444444444,\"#bd3786\"],[0.5555555555555556,\"#d8576b\"],[0.6666666666666666,\"#ed7953\"],[0.7777777777777778,\"#fb9f3a\"],[0.8888888888888888,\"#fdca26\"],[1.0,\"#f0f921\"]],\"diverging\":[[0,\"#8e0152\"],[0.1,\"#c51b7d\"],[0.2,\"#de77ae\"],[0.3,\"#f1b6da\"],[0.4,\"#fde0ef\"],[0.5,\"#f7f7f7\"],[0.6,\"#e6f5d0\"],[0.7,\"#b8e186\"],[0.8,\"#7fbc41\"],[0.9,\"#4d9221\"],[1,\"#276419\"]]},\"xaxis\":{\"gridcolor\":\"white\",\"linecolor\":\"white\",\"ticks\":\"\",\"title\":{\"standoff\":15},\"zerolinecolor\":\"white\",\"automargin\":true,\"zerolinewidth\":2},\"yaxis\":{\"gridcolor\":\"white\",\"linecolor\":\"white\",\"ticks\":\"\",\"title\":{\"standoff\":15},\"zerolinecolor\":\"white\",\"automargin\":true,\"zerolinewidth\":2},\"scene\":{\"xaxis\":{\"backgroundcolor\":\"#E5ECF6\",\"gridcolor\":\"white\",\"linecolor\":\"white\",\"showbackground\":true,\"ticks\":\"\",\"zerolinecolor\":\"white\",\"gridwidth\":2},\"yaxis\":{\"backgroundcolor\":\"#E5ECF6\",\"gridcolor\":\"white\",\"linecolor\":\"white\",\"showbackground\":true,\"ticks\":\"\",\"zerolinecolor\":\"white\",\"gridwidth\":2},\"zaxis\":{\"backgroundcolor\":\"#E5ECF6\",\"gridcolor\":\"white\",\"linecolor\":\"white\",\"showbackground\":true,\"ticks\":\"\",\"zerolinecolor\":\"white\",\"gridwidth\":2}},\"shapedefaults\":{\"line\":{\"color\":\"#2a3f5f\"}},\"annotationdefaults\":{\"arrowcolor\":\"#2a3f5f\",\"arrowhead\":0,\"arrowwidth\":1},\"geo\":{\"bgcolor\":\"white\",\"landcolor\":\"#E5ECF6\",\"subunitcolor\":\"white\",\"showland\":true,\"showlakes\":true,\"lakecolor\":\"white\"},\"title\":{\"x\":0.05},\"mapbox\":{\"style\":\"light\"}}},\"xaxis\":{\"anchor\":\"y\",\"domain\":[0.0,1.0],\"title\":{\"text\":\"Date\"}},\"yaxis\":{\"anchor\":\"x\",\"domain\":[0.0,1.0],\"title\":{\"text\":\"Relative Freq.\"}},\"legend\":{\"tracegroupgap\":0},\"margin\":{\"t\":60}},                        {\"responsive\": true}                    ).then(function(){\n",
       "                            \n",
       "var gd = document.getElementById('98bad91a-4185-420c-8d1c-3da777395908');\n",
       "var x = new MutationObserver(function (mutations, observer) {{\n",
       "        var display = window.getComputedStyle(gd).display;\n",
       "        if (!display || display === 'none') {{\n",
       "            console.log([gd, 'removed!']);\n",
       "            Plotly.purge(gd);\n",
       "            observer.disconnect();\n",
       "        }}\n",
       "}});\n",
       "\n",
       "// Listen for the removal of the full notebook cells\n",
       "var notebookContainer = gd.closest('#notebook-container');\n",
       "if (notebookContainer) {{\n",
       "    x.observe(notebookContainer, {childList: true});\n",
       "}}\n",
       "\n",
       "// Listen for the clearing of the current output cell\n",
       "var outputEl = gd.closest('.output');\n",
       "if (outputEl) {{\n",
       "    x.observe(outputEl, {childList: true});\n",
       "}}\n",
       "\n",
       "                        })                };                });            </script>        </div>"
      ]
     },
     "metadata": {},
     "output_type": "display_data"
    }
   ],
   "source": [
    "# libraries for data mining and text analysis\n",
    "import pandas as pd\n",
    "import nltk\n",
    "from nltk.tokenize import RegexpTokenizer\n",
    "import plotly.express as px\n",
    "\n",
    "dates = [] # dates and frequencies will be collection here\n",
    "\n",
    "range = re.findall(r'\\d+', news_range)\n",
    "for folder in year_list:\n",
    "    if int(range[0]) <= int(folder) <= int(range[1]):\n",
    "        # Use the volumes folder since the date is used\n",
    "        year_path = newspaper_folder.name + os.sep + folder + os.sep + \"volumes\"\n",
    "        file_list = sorted(os.listdir(year_path))\n",
    "        for file in file_list:\n",
    "            if file.endswith('.txt'):\n",
    "                fp = open(year_path + os.sep + file,'r', encoding='utf8')\n",
    "                text = fp.read()\n",
    "                fp.close()\n",
    "                tokenizer = RegexpTokenizer(r'\\w+')\n",
    "                word_list = tokenizer.tokenize(text.lower())\n",
    "                word_table = pd.Series(word_list,dtype='string')\n",
    "                # Calculate relative frequencies of all words in the issue\n",
    "                word_freqs = word_table.value_counts(normalize = True)\n",
    "                # Pull out only values that match words of interest\n",
    "                my_freqs = word_freqs.filter(news_topics)\n",
    "                # Get the total frequency for words of interest\n",
    "                total_my_freq = my_freqs.sum()\n",
    "                # The file names are used to identify dates\n",
    "                dates.append([file[:10],total_my_freq])\n",
    "\n",
    "# Add those dates to a data frame\n",
    "results_table = pd.DataFrame(dates, columns = ['Date','Frequency']) \n",
    "# Analyses are all done, plot the figure\n",
    "my_figure = px.line(results_table, x = 'Date', y = 'Frequency').update_layout(yaxis_title=\"Relative Freq.\")\n",
    "print(\"=> pages examined:\", len(dates))\n",
    "# Show figure\n",
    "my_figure.show()\n",
    "                "
   ]
  },
  {
   "cell_type": "markdown",
   "id": "ae859877",
   "metadata": {},
   "source": [
    "This is just one example. The quality of the OCR varies across the newspaper titles, and some combinations will work better than others."
   ]
  },
  {
   "cell_type": "code",
   "execution_count": 29,
   "id": "d95c79d5",
   "metadata": {},
   "outputs": [
    {
     "name": "stdout",
     "output_type": "stream",
     "text": [
      "=> Newspaper folder has been removed.\n"
     ]
    }
   ],
   "source": [
    "\"\"\"\n",
    "Clean up the temporary folder\n",
    "\"\"\"\n",
    "newspaper_folder.cleanup()\n",
    "\n",
    "print(\"=> Newspaper folder has been removed.\")"
   ]
  },
  {
   "cell_type": "markdown",
   "id": "2fde2f62",
   "metadata": {},
   "source": [
    "# More information\n",
    "\n",
    "### Jupyter/JupyterHub\n",
    "\n",
    "* [Introduction to Jupyter Notebooks](https://programminghistorian.org/en/lessons/jupyter-notebooks) - from the [Programming Historian](https://programminghistorian.org/).\n",
    "\n",
    "* [JupyterHub](https://jupyterhub.readthedocs.io/) - the official docs for JupyterHub. \n",
    "\n",
    "* [Anaconda](https://www.anaconda.com/products/distribution) - an easy option for installing Jupyter across platforms.\n",
    "\n",
    "### Text Analysis/Data Processing\n",
    "\n",
    "* [Introduction to Pandas](https://towardsdatascience.com/introduction-to-pandas-hands-on-tutorial-part-one-2e74f35ab166) - a short and to the point tutorial that uses _Anaconda_.\n",
    "\n",
    "* [Introduction to Natural Language Processing using NLTK](https://blog.paperspace.com/introduction-to-natural-language-processing-using-nltk/) - a quick run-through of _NLTK_ functions.\n",
    "\n",
    "* [COVID-19 Open Research Dataset Challenge](https://www.kaggle.com/datasets/allen-institute-for-ai/CORD-19-research-challenge) - a Kaggle challenge using the [CORD-19 open research dataset](https://blog.allenai.org/sunsetting-cord-19-239fb2f9ff4a). CORD-19 became available in March 2020 when the White House and a coalition of leading research groups created a freely available dataset of over 1M scholarly articles to encourage data mining and other text-based approaches to help in the fight against Covid-19. Kaggle has been called an \"AirBnB for data scientists\", it is backed by Google, and if you are interested in what Jupyter can offer for analysing text content, there are a lot of intriguing ideas here.\n",
    "\n",
    "### Newspaper Digitization/Newspapers as Data\n",
    "\n",
    "* [Newspapers as Data](https://libguides.library.arizona.edu/newspapers-as-data) - the starting point for the University of Arizona's efforts to support student data literacy with newspapers. \n",
    "\n",
    "* [Text Data Mining of Newspapers in JupyterHub](https://github.com/ADC-RDM/TDMnewspapers) - materials from the workshop series [RDM & TDM in JupyterHub with Newspapers](https://leddy.uwindsor.ca/rdm-tdm-jupyterhub-newspapers).\n"
   ]
  }
 ],
 "metadata": {
  "celltoolbar": "Raw Cell Format",
  "kernelspec": {
   "display_name": "Python 3 (ipykernel)",
   "language": "python",
   "name": "python3"
  },
  "language_info": {
   "codemirror_mode": {
    "name": "ipython",
    "version": 3
   },
   "file_extension": ".py",
   "mimetype": "text/x-python",
   "name": "python",
   "nbconvert_exporter": "python",
   "pygments_lexer": "ipython3",
   "version": "3.9.13"
  }
 },
 "nbformat": 4,
 "nbformat_minor": 5
}
